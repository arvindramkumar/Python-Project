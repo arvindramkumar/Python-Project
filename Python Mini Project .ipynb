{
 "cells": [
  {
   "cell_type": "markdown",
   "metadata": {},
   "source": [
    "# Python Mini Project"
   ]
  },
  {
   "cell_type": "markdown",
   "metadata": {},
   "source": [
    "# --------------------------------------------------------------------------------------------"
   ]
  },
  {
   "cell_type": "markdown",
   "metadata": {},
   "source": [
    "# Arvind Ramkumar\n",
    "\n",
    "#### Email - aramkum4@asu.edu | arvindramkumar1996@gmail.com\n",
    "#### Phone - 480(859)2393"
   ]
  },
  {
   "cell_type": "markdown",
   "metadata": {},
   "source": [
    "# --------------------------------------------------------------------------------------------"
   ]
  },
  {
   "cell_type": "markdown",
   "metadata": {},
   "source": [
    "### Import Packages"
   ]
  },
  {
   "cell_type": "code",
   "execution_count": 107,
   "metadata": {},
   "outputs": [],
   "source": [
    "import pandas as pd \n",
    "import numpy as np \n",
    "\n",
    "from matplotlib import pyplot as plt\n",
    "import matplotlib.mlab as mlab"
   ]
  },
  {
   "cell_type": "markdown",
   "metadata": {},
   "source": [
    "### Import Data Set "
   ]
  },
  {
   "cell_type": "code",
   "execution_count": 108,
   "metadata": {},
   "outputs": [],
   "source": [
    "df = pd.read_csv('data.csv')"
   ]
  },
  {
   "cell_type": "markdown",
   "metadata": {},
   "source": [
    "### Basic Understanding of Data  "
   ]
  },
  {
   "cell_type": "code",
   "execution_count": 109,
   "metadata": {},
   "outputs": [
    {
     "data": {
      "text/html": [
       "<div>\n",
       "<style scoped>\n",
       "    .dataframe tbody tr th:only-of-type {\n",
       "        vertical-align: middle;\n",
       "    }\n",
       "\n",
       "    .dataframe tbody tr th {\n",
       "        vertical-align: top;\n",
       "    }\n",
       "\n",
       "    .dataframe thead th {\n",
       "        text-align: right;\n",
       "    }\n",
       "</style>\n",
       "<table border=\"1\" class=\"dataframe\">\n",
       "  <thead>\n",
       "    <tr style=\"text-align: right;\">\n",
       "      <th></th>\n",
       "      <th>customer_id</th>\n",
       "      <th>gender</th>\n",
       "      <th>date</th>\n",
       "      <th>value</th>\n",
       "      <th>predicted_gender</th>\n",
       "    </tr>\n",
       "  </thead>\n",
       "  <tbody>\n",
       "    <tr>\n",
       "      <th>0</th>\n",
       "      <td>1000</td>\n",
       "      <td>0</td>\n",
       "      <td>2017-01-01 00:11:31</td>\n",
       "      <td>198.5</td>\n",
       "      <td>1</td>\n",
       "    </tr>\n",
       "    <tr>\n",
       "      <th>1</th>\n",
       "      <td>1001</td>\n",
       "      <td>0</td>\n",
       "      <td>2017-01-01 00:29:56</td>\n",
       "      <td>338.0</td>\n",
       "      <td>1</td>\n",
       "    </tr>\n",
       "    <tr>\n",
       "      <th>2</th>\n",
       "      <td>1002</td>\n",
       "      <td>1</td>\n",
       "      <td>2017-01-01 01:30:31</td>\n",
       "      <td>733.0</td>\n",
       "      <td>1</td>\n",
       "    </tr>\n",
       "    <tr>\n",
       "      <th>3</th>\n",
       "      <td>1003</td>\n",
       "      <td>1</td>\n",
       "      <td>2017-01-01 01:34:22</td>\n",
       "      <td>772.0</td>\n",
       "      <td>1</td>\n",
       "    </tr>\n",
       "    <tr>\n",
       "      <th>4</th>\n",
       "      <td>1004</td>\n",
       "      <td>0</td>\n",
       "      <td>2017-01-01 03:11:54</td>\n",
       "      <td>508.0</td>\n",
       "      <td>1</td>\n",
       "    </tr>\n",
       "  </tbody>\n",
       "</table>\n",
       "</div>"
      ],
      "text/plain": [
       "   customer_id  gender                 date  value  predicted_gender\n",
       "0         1000       0  2017-01-01 00:11:31  198.5                 1\n",
       "1         1001       0  2017-01-01 00:29:56  338.0                 1\n",
       "2         1002       1  2017-01-01 01:30:31  733.0                 1\n",
       "3         1003       1  2017-01-01 01:34:22  772.0                 1\n",
       "4         1004       0  2017-01-01 03:11:54  508.0                 1"
      ]
     },
     "execution_count": 109,
     "metadata": {},
     "output_type": "execute_result"
    }
   ],
   "source": [
    "df.head()"
   ]
  },
  {
   "cell_type": "code",
   "execution_count": 110,
   "metadata": {},
   "outputs": [
    {
     "data": {
      "text/plain": [
       "customer_id           int64\n",
       "gender                int64\n",
       "date                 object\n",
       "value               float64\n",
       "predicted_gender      int64\n",
       "dtype: object"
      ]
     },
     "execution_count": 110,
     "metadata": {},
     "output_type": "execute_result"
    }
   ],
   "source": [
    "df.dtypes"
   ]
  },
  {
   "cell_type": "markdown",
   "metadata": {},
   "source": [
    "### Converting the Date to the Date Format  "
   ]
  },
  {
   "cell_type": "code",
   "execution_count": 111,
   "metadata": {},
   "outputs": [],
   "source": [
    "df['date'] = pd.to_datetime(df['date'], errors = 'coerce')"
   ]
  },
  {
   "cell_type": "code",
   "execution_count": 112,
   "metadata": {},
   "outputs": [
    {
     "data": {
      "text/plain": [
       "customer_id          8814\n",
       "gender                  2\n",
       "date                13461\n",
       "value                4079\n",
       "predicted_gender        2\n",
       "dtype: int64"
      ]
     },
     "execution_count": 112,
     "metadata": {},
     "output_type": "execute_result"
    }
   ],
   "source": [
    "df.nunique()"
   ]
  },
  {
   "cell_type": "markdown",
   "metadata": {},
   "source": [
    "# --------------------------------------------------------------------------------------------"
   ]
  },
  {
   "cell_type": "markdown",
   "metadata": {},
   "source": [
    "## Question 1  "
   ]
  },
  {
   "cell_type": "markdown",
   "metadata": {},
   "source": [
    " Assemble a dataframe with one row per customer and the following columns:\n",
    "    * customer_id\n",
    "    * gender\n",
    "    * most_recent_order_date\n",
    "    * order_count (number of orders placed by this customer)\n",
    "   Sort the dataframe by customer_id ascending and display the first 10 rows."
   ]
  },
  {
   "cell_type": "code",
   "execution_count": 113,
   "metadata": {},
   "outputs": [
    {
     "name": "stderr",
     "output_type": "stream",
     "text": [
      "/Users/arvindramkumar/anaconda3/lib/python3.6/site-packages/ipykernel_launcher.py:2: FutureWarning: by argument to sort_index is deprecated, please use .sort_values(by=...)\n",
      "  \n"
     ]
    },
    {
     "data": {
      "text/html": [
       "<div>\n",
       "<style scoped>\n",
       "    .dataframe tbody tr th:only-of-type {\n",
       "        vertical-align: middle;\n",
       "    }\n",
       "\n",
       "    .dataframe tbody tr th {\n",
       "        vertical-align: top;\n",
       "    }\n",
       "\n",
       "    .dataframe thead th {\n",
       "        text-align: right;\n",
       "    }\n",
       "</style>\n",
       "<table border=\"1\" class=\"dataframe\">\n",
       "  <thead>\n",
       "    <tr style=\"text-align: right;\">\n",
       "      <th></th>\n",
       "      <th>customer_id</th>\n",
       "      <th>gender</th>\n",
       "      <th>most_recent_order_date</th>\n",
       "      <th>order_count</th>\n",
       "    </tr>\n",
       "  </thead>\n",
       "  <tbody>\n",
       "    <tr>\n",
       "      <th>0</th>\n",
       "      <td>1000</td>\n",
       "      <td>0</td>\n",
       "      <td>2017-01-01 00:11:31</td>\n",
       "      <td>1</td>\n",
       "    </tr>\n",
       "    <tr>\n",
       "      <th>1</th>\n",
       "      <td>1001</td>\n",
       "      <td>0</td>\n",
       "      <td>2017-01-01 00:29:56</td>\n",
       "      <td>1</td>\n",
       "    </tr>\n",
       "    <tr>\n",
       "      <th>2</th>\n",
       "      <td>1002</td>\n",
       "      <td>1</td>\n",
       "      <td>2017-01-01 01:30:31</td>\n",
       "      <td>3</td>\n",
       "    </tr>\n",
       "    <tr>\n",
       "      <th>3</th>\n",
       "      <td>1003</td>\n",
       "      <td>1</td>\n",
       "      <td>2017-01-01 01:34:22</td>\n",
       "      <td>4</td>\n",
       "    </tr>\n",
       "    <tr>\n",
       "      <th>4</th>\n",
       "      <td>1004</td>\n",
       "      <td>0</td>\n",
       "      <td>2017-01-01 03:11:54</td>\n",
       "      <td>1</td>\n",
       "    </tr>\n",
       "    <tr>\n",
       "      <th>5</th>\n",
       "      <td>1005</td>\n",
       "      <td>1</td>\n",
       "      <td>2017-01-01 10:08:05</td>\n",
       "      <td>2</td>\n",
       "    </tr>\n",
       "    <tr>\n",
       "      <th>6</th>\n",
       "      <td>1006</td>\n",
       "      <td>1</td>\n",
       "      <td>2017-01-01 15:42:57</td>\n",
       "      <td>3</td>\n",
       "    </tr>\n",
       "    <tr>\n",
       "      <th>7</th>\n",
       "      <td>1007</td>\n",
       "      <td>0</td>\n",
       "      <td>2017-01-01 15:59:50</td>\n",
       "      <td>1</td>\n",
       "    </tr>\n",
       "    <tr>\n",
       "      <th>8</th>\n",
       "      <td>1008</td>\n",
       "      <td>0</td>\n",
       "      <td>2017-01-01 18:01:04</td>\n",
       "      <td>3</td>\n",
       "    </tr>\n",
       "    <tr>\n",
       "      <th>9</th>\n",
       "      <td>1009</td>\n",
       "      <td>1</td>\n",
       "      <td>2017-01-01 19:27:17</td>\n",
       "      <td>1</td>\n",
       "    </tr>\n",
       "  </tbody>\n",
       "</table>\n",
       "</div>"
      ],
      "text/plain": [
       "  customer_id gender most_recent_order_date order_count\n",
       "0        1000      0    2017-01-01 00:11:31           1\n",
       "1        1001      0    2017-01-01 00:29:56           1\n",
       "2        1002      1    2017-01-01 01:30:31           3\n",
       "3        1003      1    2017-01-01 01:34:22           4\n",
       "4        1004      0    2017-01-01 03:11:54           1\n",
       "5        1005      1    2017-01-01 10:08:05           2\n",
       "6        1006      1    2017-01-01 15:42:57           3\n",
       "7        1007      0    2017-01-01 15:59:50           1\n",
       "8        1008      0    2017-01-01 18:01:04           3\n",
       "9        1009      1    2017-01-01 19:27:17           1"
      ]
     },
     "execution_count": 113,
     "metadata": {},
     "output_type": "execute_result"
    }
   ],
   "source": [
    "# Create a new column against the customer for their total number of order \n",
    "df['count'] = df.groupby('customer_id')['customer_id'].transform('count')\n",
    "sorted1 = df.sort_index(by = 'date')\n",
    "result = sorted1.drop_duplicates('customer_id').values\n",
    "\n",
    "# Convert the result in Array to Dataframe \n",
    "df1 = pd.DataFrame(data=result[0:,0:])\n",
    "\n",
    "# Renaming the Name of the Columns \n",
    "df1 = df1.rename({0: 'customer_id', 1: 'gender', 2: 'most_recent_order_date', 3: 'value', 4: 'predictedgender', 5: 'order_count'}, axis=1)\n",
    "\n",
    "# Dropping the two unnecessary columns \n",
    "df1 = df1.drop('value', axis = 1)\n",
    "df1 = df1.drop('predictedgender', axis = 1)\n",
    "\n",
    "# Display first 10 Rows ordered by customer_id\n",
    "df1.head(10)"
   ]
  },
  {
   "cell_type": "markdown",
   "metadata": {},
   "source": [
    "# --------------------------------------------------------------------------------------------"
   ]
  },
  {
   "cell_type": "markdown",
   "metadata": {},
   "source": [
    "## Question 2  "
   ]
  },
  {
   "cell_type": "markdown",
   "metadata": {},
   "source": [
    "Plot the count of orders per week for the store.\n"
   ]
  },
  {
   "cell_type": "code",
   "execution_count": 118,
   "metadata": {},
   "outputs": [
    {
     "data": {
      "image/png": "[encoded data removed]",
      "text/plain": [
       "<Figure size 1080x720 with 1 Axes>"
      ]
     },
     "metadata": {},
     "output_type": "display_data"
    }
   ],
   "source": [
    "graph = df.groupby(df.date.dt.weekofyear)['customer_id'].count()\n",
    "\n",
    "fig, ax = plt.subplots(figsize=(15,10))\n",
    "graph.plot(ax = ax)\n",
    "plt.title('Plot for the Count of Orders Per Week For the Store')\n",
    "plt.xlabel('Week')\n",
    "plt.ylabel('Count of Orders')\n",
    "ax.grid()\n",
    "plt.show()"
   ]
  },
  {
   "cell_type": "markdown",
   "metadata": {},
   "source": [
    "# --------------------------------------------------------------------------------------------"
   ]
  },
  {
   "cell_type": "markdown",
   "metadata": {},
   "source": [
    "## Question 3 "
   ]
  },
  {
   "cell_type": "markdown",
   "metadata": {},
   "source": [
    "Compute the mean order value for gender 0 and for gender 1. Do you think the difference is significant?"
   ]
  },
  {
   "cell_type": "markdown",
   "metadata": {},
   "source": [
    "### Solution \n",
    "\n",
    "To determine whether there is a significant difference between the Mean of Gender 0 and Gender 1, we Use t-test compare the means of these two population. \n",
    "\n",
    "\n",
    "Null Hypothesis – H0 : µ_1= µ_2 | Alternate Hypothesis – H1 : µ_1 ≠ µ_2\n",
    "\n",
    "Here, as far as this problem is concerned, it is preferable to do Welch’s T test, because there is high possibility that the Variance of these samples might not be equal.\n",
    "\n",
    "So, for the Rejection Criteria for the Null Hypothesis, the |test statistic| > t (α/2,V). Since the Degree of Freedom is Really high, we choose the comparing statistic to be 1.96 (From t table).\n",
    "\n",
    "Also, If p-value is less than 0.5, it also rejects the null hypothesis."
   ]
  },
  {
   "cell_type": "code",
   "execution_count": 121,
   "metadata": {},
   "outputs": [
    {
     "name": "stdout",
     "output_type": "stream",
     "text": [
      "Ttest_indResult(statistic=-1.976107933576866, pvalue=0.04816296295128402)\n",
      "Reject Null Hypothesis, mean of gender1 is unequal to mean of gender0\n"
     ]
    }
   ],
   "source": [
    "from scipy.stats import ttest_ind\n",
    "\n",
    "# Splitting the data into two samples based on gender\n",
    "\n",
    "gender1 = df[(df['gender'] == 1)]\n",
    "gender0 = df[(df['gender'] == 0)]\n",
    "\n",
    "results = ttest_ind(gender1.value, gender0.value, equal_var=False)\n",
    "print(results)\n",
    "\n",
    "alpha = 0.05\n",
    "if ((abs(results[0]) > 1.96) & (results[1]/2 < alpha)):\n",
    "    print (\"Reject Null Hypothesis, mean of {} is unequal to mean of {}\".format('gender1','gender0'))\n",
    "else:\n",
    "    print (\"Accept Null Hypothesis, mean of {} is equal to mean of {}\".format('gender1','gender0'))"
   ]
  },
  {
   "cell_type": "markdown",
   "metadata": {},
   "source": [
    "### Inference \n",
    "\n",
    "On Closer examination of the result, the test statistic has a value closer to 1.96 and the p value has a vlaue very much closer to 0.5. So, the difference in mean of values between gender0 and gender1 is very very low. \n",
    "\n",
    "But, in a statistical point of view, with 95% Confidence, we can say that the mead order value between gender0 and gender1 is significant. "
   ]
  },
  {
   "cell_type": "markdown",
   "metadata": {},
   "source": [
    "# --------------------------------------------------------------------------------------------"
   ]
  },
  {
   "cell_type": "markdown",
   "metadata": {},
   "source": [
    "## Question 4  "
   ]
  },
  {
   "cell_type": "markdown",
   "metadata": {},
   "source": [
    "Assuming a single gender prediction was made for each customer, generate a confusion matrix for predicted gender. What does the confusion matrix tell you about the quality of the predictions?"
   ]
  },
  {
   "cell_type": "markdown",
   "metadata": {},
   "source": [
    "#### Basic Confusion Matrix "
   ]
  },
  {
   "cell_type": "code",
   "execution_count": 122,
   "metadata": {},
   "outputs": [
    {
     "data": {
      "text/plain": [
       "array([[3349, 3410],\n",
       "       [1463, 5249]])"
      ]
     },
     "execution_count": 122,
     "metadata": {},
     "output_type": "execute_result"
    }
   ],
   "source": [
    "from sklearn.metrics import confusion_matrix\n",
    "\n",
    "confusion_matrix(df.gender, df.predicted_gender)"
   ]
  },
  {
   "cell_type": "markdown",
   "metadata": {},
   "source": [
    "#### Advanced Options performed using Confusion Matrix "
   ]
  },
  {
   "cell_type": "code",
   "execution_count": 130,
   "metadata": {},
   "outputs": [],
   "source": [
    "# Defining a function to plot the Confusion Matrix \n",
    "\n",
    "import itertools\n",
    "\n",
    "def plot_confusion_matrix(cm, classes,\n",
    "                          normalize=False,\n",
    "                          title='Confusion matrix',\n",
    "                          cmap=plt.cm.Blues):\n",
    "    \"\"\"\n",
    "    This function prints and plots the confusion matrix.\n",
    "    Normalization can be applied by setting `normalize=True`.\n",
    "    \"\"\"\n",
    "    plt.imshow(cm, interpolation='nearest', cmap=cmap)\n",
    "    plt.title(title)\n",
    "    plt.colorbar()\n",
    "    tick_marks = np.arange(len(classes))\n",
    "    plt.xticks(tick_marks, classes, rotation=0)\n",
    "    plt.yticks(tick_marks, classes)\n",
    "\n",
    "    if normalize:\n",
    "        cm = cm.astype('float') / cm.sum(axis=1)[:, np.newaxis]\n",
    "        #print(\"Normalized confusion matrix\")\n",
    "    else:\n",
    "        1#print('Confusion matrix, without normalization')\n",
    "\n",
    "    #print(cm)\n",
    "\n",
    "    thresh = cm.max() / 2.\n",
    "    for i, j in itertools.product(range(cm.shape[0]), range(cm.shape[1])):\n",
    "        plt.text(j, i, cm[i, j],\n",
    "                 horizontalalignment=\"center\",\n",
    "                 color=\"white\" if cm[i, j] > thresh else \"black\")\n",
    "\n",
    "    plt.tight_layout()\n",
    "    plt.ylabel('True label')\n",
    "    plt.xlabel('Predicted label')"
   ]
  },
  {
   "cell_type": "code",
   "execution_count": 129,
   "metadata": {},
   "outputs": [
    {
     "name": "stdout",
     "output_type": "stream",
     "text": [
      "accuracy 0.6382599658525722\n",
      "\n",
      " classification report\n",
      "              precision    recall  f1-score   support\n",
      "\n",
      "           0       0.70      0.50      0.58      6759\n",
      "           1       0.61      0.78      0.68      6712\n",
      "\n",
      "   micro avg       0.64      0.64      0.64     13471\n",
      "   macro avg       0.65      0.64      0.63     13471\n",
      "weighted avg       0.65      0.64      0.63     13471\n",
      "\n",
      "\n",
      " confusion matrix\n",
      "[[3349 3410]\n",
      " [1463 5249]]\n"
     ]
    },
    {
     "data": {
      "image/png": "[encoded data removed]",
      "text/plain": [
       "<Figure size 432x288 with 2 Axes>"
      ]
     },
     "metadata": {},
     "output_type": "display_data"
    },
    {
     "name": "stdout",
     "output_type": "stream",
     "text": [
      "\n",
      " Recall Metric in the testing dataset\n",
      "0.7820321811680572\n",
      "\n",
      " score_auc\n",
      "0.6387598396593356\n"
     ]
    },
    {
     "data": {
      "image/png": "[encoded data removed]",
      "text/plain": [
       "<Figure size 432x288 with 1 Axes>"
      ]
     },
     "metadata": {},
     "output_type": "display_data"
    }
   ],
   "source": [
    "from sklearn.metrics import classification_report,confusion_matrix,accuracy_score\n",
    "from sklearn.metrics import confusion_matrix,precision_recall_curve,auc,roc_auc_score,roc_curve,recall_score,classification_report\n",
    "\n",
    "\n",
    "# Accuracy Score and Classification Report \n",
    "\n",
    "print('accuracy',accuracy_score(df.gender, df.predicted_gender))\n",
    "print('\\n classification report')\n",
    "print(classification_report(df.gender, df.predicted_gender))\n",
    "print('\\n confusion matrix')\n",
    "print(confusion_matrix(df.gender, df.predicted_gender))\n",
    "\n",
    "# Confusion Matrix \n",
    "\n",
    "cnf_matrixrf = confusion_matrix(df.gender, df.predicted_gender)\n",
    "\n",
    "class_names = [0,1]\n",
    "plt.figure()\n",
    "plot_confusion_matrix(cnf_matrixrf, classes=class_names, title='Confusion matrix')\n",
    "plt.show()\n",
    "\n",
    "# Recall Metric\n",
    "\n",
    "print('\\n Recall Metric in the testing dataset')\n",
    "print(cnf_matrixrf[1,1]/(cnf_matrixrf[1,0]+cnf_matrixrf[1,1]))\n",
    "\n",
    "# AUC Score \n",
    "\n",
    "fpr,tpr,thresholds=roc_curve(df.gender, df.predicted_gender)\n",
    "score_aucrf=roc_auc_score(df.gender, df.predicted_gender)\n",
    "print('\\n score_auc')\n",
    "print(score_aucrf)\n",
    "\n",
    "# Plot ROC\n",
    "\n",
    "roc_aucrf = auc(fpr, tpr)\n",
    "plt.title('Receiver Operating Characteristic')\n",
    "plt.plot(fpr, tpr, 'b',label='AUC = %0.2f'% roc_aucrf)\n",
    "plt.legend(loc='lower right')\n",
    "plt.plot([0,1],[0,1],'r--')\n",
    "plt.xlim([-0.1,1.0])\n",
    "plt.ylim([-0.1,1.01])\n",
    "plt.ylabel('True Positive Rate')\n",
    "plt.xlabel('False Positive Rate')\n",
    "plt.show()"
   ]
  },
  {
   "cell_type": "markdown",
   "metadata": {},
   "source": [
    "### Inference "
   ]
  },
  {
   "cell_type": "markdown",
   "metadata": {},
   "source": [
    "The main reference for understanding the quality of prediction is the Recall Score and the Area Under the Curve Score. Here, \n",
    "\n",
    "Recall = 0.78 \n",
    "AUC = 0.64\n",
    "\n",
    "Although the accuracy doesnt seem to be bad, from the ROC Curve, the Curve is well above the dotted line. So, the prediction ain't bad. \n",
    "\n",
    "But, I would recommend that the accuracy of the prediction could be improved by using better prediction modelling or optimizing the current model by optimizing the Parameters using GridSearchCV"
   ]
  },
  {
   "cell_type": "markdown",
   "metadata": {},
   "source": [
    "# --------------------------------------------------------------------------------------------"
   ]
  },
  {
   "cell_type": "markdown",
   "metadata": {},
   "source": [
    "## Question 5  "
   ]
  },
  {
   "cell_type": "markdown",
   "metadata": {},
   "source": [
    "Describe one of your favorite tools or techniques and give a small example of how it's helped you solve a problem. Limit your answer to one paragraph."
   ]
  },
  {
   "cell_type": "markdown",
   "metadata": {},
   "source": [
    "One of my major interest in working with building Machine Learning Models, to make accurate predictions. The general method that is employed is, once we decide the model to fit (say Random Forest), we fit the basic model, with the automatic parameter settings and check its performance. After this, we keep changing the parameter to increase the predicitivity of the model. So, people ususally employ grid search for this. The problem with the grid search is, we need to specify the parameter range for all the parameters that we need to study and because of the the run time of the GridSearchCV increases exponentially. We need a way to curtail the range input that we give in GridSearchCV. \n",
    "\n",
    "That's when I was able to obtain an idea to determine the optimal range that we could give in GridSearchCV. Say, the output in binary. So the Accuracy_Score could be used to understand the model performance. So I developed this code where in a graph will be plotted for each of the parameter in the model with two curves one for the test and one for the train with y-axis being the accuracy score and x-axis being the entire range of the value of that one parameter. Sp, we are now aware of how the accuracy changes if we change that parameter. With this Knowledge, we can drastically reduce the run time of GridSearchCV with an optimized range, yet obtaining a model with very hig accuracy. We can employ this for Regression output as well, but instead of accuarcy score, we can use Root Mean Square Error (RMSE) and R Squared. \n",
    "\n",
    "This technique has helped me in increasing the model's performance most of the time. Specifically in the recent project that I was working on as a Data Analyst for the Decision Centre for Educational Excellence, I was responsible for building a model to predict the Grade11AZTest Pass Percentage and I was able to develop a model with 85% Accuracy which was 5% More accurate relative to the other models prepared by the other Data Analysts in the office. \n",
    "\n",
    "Example of the technique mentioned above - https://github.com/arvindramkumar/Data-Mining-Using-RF/blob/master/Code.ipynb (Link to one of my project in GitHub)"
   ]
  },
  {
   "cell_type": "markdown",
   "metadata": {},
   "source": [
    "# --------------------------------------------------------------------------------------------"
   ]
  }
 ],
 "metadata": {
  "kernelspec": {
   "display_name": "Python 3",
   "language": "python",
   "name": "python3"
  },
  "language_info": {
   "codemirror_mode": {
    "name": "ipython",
    "version": 3
   },
   "file_extension": ".py",
   "mimetype": "text/x-python",
   "name": "python",
   "nbconvert_exporter": "python",
   "pygments_lexer": "ipython3",
   "version": "3.6.5"
  }
 },
 "nbformat": 4,
 "nbformat_minor": 2
}
